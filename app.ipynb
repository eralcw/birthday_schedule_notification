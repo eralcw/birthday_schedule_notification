{
 "cells": [
  {
   "cell_type": "code",
   "execution_count": 1,
   "id": "2f03737f",
   "metadata": {},
   "outputs": [],
   "source": [
    "from datetime import datetime\n",
    "import os\n",
    "import mysql.connector\n",
    "import mysql.connector.errorcode as Error\n",
    "from dotenv import load_dotenv\n",
    "import requests\n",
    "import streamlit as st"
   ]
  },
  {
   "cell_type": "code",
   "execution_count": 3,
   "id": "b6c3bdce",
   "metadata": {},
   "outputs": [
    {
     "data": {
      "text/plain": [
       "True"
      ]
     },
     "execution_count": 3,
     "metadata": {},
     "output_type": "execute_result"
    }
   ],
   "source": [
    "load_dotenv('.env')"
   ]
  },
  {
   "cell_type": "code",
   "execution_count": 33,
   "id": "7a466e1b",
   "metadata": {},
   "outputs": [],
   "source": [
    "def get_connection():\n",
    "    conn = None\n",
    "    try:\n",
    "        db_config = {\n",
    "        'user': os.getenv('DB_USERNAME'),\n",
    "        'password': os.getenv('DB_PASSWORD'),\n",
    "        'host': 'localhost',\n",
    "        'database': 'birthdates'\n",
    "            }\n",
    "        return mysql.connector.connect(**db_config)\n",
    "         \n",
    "    except Error as err:\n",
    "        print(f\"Error: '{err}'\")\n",
    "    \n",
    "        return conn\n"
   ]
  },
  {
   "cell_type": "code",
   "execution_count": 34,
   "id": "ddbd7169",
   "metadata": {},
   "outputs": [
    {
     "data": {
      "text/plain": [
       "<mysql.connector.connection_cext.CMySQLConnection at 0x1271769ccd0>"
      ]
     },
     "execution_count": 34,
     "metadata": {},
     "output_type": "execute_result"
    }
   ],
   "source": [
    "get_connection()"
   ]
  },
  {
   "cell_type": "code",
   "execution_count": null,
   "id": "7b64fd2c",
   "metadata": {},
   "outputs": [],
   "source": [
    "def get_bot():\n",
    "    TOKEN = os.getenv('TOKEN')\n",
    "    url = f\"https://api.telegram.org/bot{TOKEN}/getUpdates\"\n",
    "    resp = requests.get(url).json() \n",
    "    \n",
    "    if resp == {'ok': True, 'result': []}:\n",
    "        return {'message': 'Nenhum bot encontrado'}\n",
    "    return resp['ok']\n",
    "    "
   ]
  },
  {
   "cell_type": "code",
   "execution_count": 35,
   "id": "b1bbbf82",
   "metadata": {},
   "outputs": [],
   "source": [
    "def post_msg(name):\n",
    "    TOKEN = os.getenv('TOKEN')\n",
    "    CHAT_ID = os.getenv('CHAT_ID')\n",
    "    url_post= f\"https://api.telegram.org/bot{TOKEN}/sendMessage\"\n",
    "    payload = {\"chat_id\": CHAT_ID, \"text\": f\"Hoje é aniversário de {name}\"}\n",
    "\n",
    "    res = requests.post(url_post, json=payload)\n",
    "\n",
    "    print(res)\n"
   ]
  },
  {
   "cell_type": "code",
   "execution_count": 36,
   "id": "1053b800",
   "metadata": {},
   "outputs": [],
   "source": [
    "def get_today():\n",
    "  conn = get_connection()\n",
    "  today = datetime.now()\n",
    "  cursor = conn.cursor()\n",
    "  cursor.execute(\"SELECT name, date_birth FROM birth\")\n",
    "  resultado = cursor.fetchall()\n",
    "  data = []\n",
    "  for name, date_birth in resultado:\n",
    "    if date_birth.month == today.month and date_birth.day == today.day:\n",
    "      data.append({\n",
    "        \"name\": name\n",
    "      })\n",
    "  return data\n"
   ]
  },
  {
   "cell_type": "code",
   "execution_count": null,
   "id": "ec93a4e8",
   "metadata": {},
   "outputs": [
    {
     "data": {
      "text/plain": [
       "[('exemplo', datetime.date(2025, 8, 19)),\n",
       " ('exemplo', datetime.date(2025, 8, 19))]"
      ]
     },
     "execution_count": 19,
     "metadata": {},
     "output_type": "execute_result"
    }
   ],
   "source": [
    "def birth_on(dt):\n",
    "    conn = get_connection()\n",
    "    cursor = conn.cursor()\n",
    "    cursor.execute(\"SELECT name, date_birth FROM birth WHERE date_birth = %s\", (dt,))\n",
    "    resultado = cursor.fetchall()\n",
    "    return resultado\n"
   ]
  },
  {
   "cell_type": "code",
   "execution_count": null,
   "id": "85c28a9d",
   "metadata": {},
   "outputs": [
    {
     "name": "stdout",
     "output_type": "stream",
     "text": [
      "[{'name': 'exemplo 1'}, {'name': 'exemplo 2'}]\n",
      "<Response [200]>\n",
      "<Response [200]>\n"
     ]
    }
   ],
   "source": [
    "def execute_today():\n",
    "    today = get_today()\n",
    "    if len(today) == 0:\n",
    "        print(\"Estou aqui\")\n",
    "        return None\n",
    "    print(today)\n",
    "    for i in today:\n",
    "        post_msg(i[\"name\"])\n"
   ]
  }
 ],
 "metadata": {
  "kernelspec": {
   "display_name": "Python 3",
   "language": "python",
   "name": "python3"
  },
  "language_info": {
   "codemirror_mode": {
    "name": "ipython",
    "version": 3
   },
   "file_extension": ".py",
   "mimetype": "text/x-python",
   "name": "python",
   "nbconvert_exporter": "python",
   "pygments_lexer": "ipython3",
   "version": "3.13.2"
  }
 },
 "nbformat": 4,
 "nbformat_minor": 5
}
