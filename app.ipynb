{
 "cells": [
  {
   "cell_type": "code",
   "execution_count": 15,
   "id": "2f03737f",
   "metadata": {},
   "outputs": [],
   "source": [
    "from datetime import datetime\n",
    "import os\n",
    "import mysql.connector\n",
    "from dotenv import load_dotenv\n",
    "import requests\n"
   ]
  },
  {
   "cell_type": "code",
   "execution_count": 16,
   "id": "b6c3bdce",
   "metadata": {},
   "outputs": [
    {
     "data": {
      "text/plain": [
       "True"
      ]
     },
     "execution_count": 16,
     "metadata": {},
     "output_type": "execute_result"
    }
   ],
   "source": [
    "load_dotenv('.env')"
   ]
  },
  {
   "cell_type": "code",
   "execution_count": 3,
   "id": "7a466e1b",
   "metadata": {},
   "outputs": [],
   "source": [
    "db_config = {\n",
    "    'user': os.getenv('DB_USERNAME'),\n",
    "    'password': os.getenv('DB_PASSWORD'),\n",
    "    'host': 'localhost',\n",
    "    'database': 'birthdates'\n",
    "}\n",
    "\n",
    "conn = mysql.connector.connect(**db_config)\n",
    "\n"
   ]
  },
  {
   "cell_type": "code",
   "execution_count": 17,
   "id": "7b64fd2c",
   "metadata": {},
   "outputs": [
    {
     "name": "stdout",
     "output_type": "stream",
     "text": [
      "{'ok': True, 'result': [{'update_id': 960926965, 'message': {'message_id': 3, 'from': {'id': 5615231903, 'is_bot': False, 'first_name': 'Clarê', 'language_code': 'pt-br'}, 'chat': {'id': 5615231903, 'first_name': 'Clarê', 'type': 'private'}, 'date': 1755193161, 'text': 'Teste'}}]}\n"
     ]
    }
   ],
   "source": [
    "CHAT_ID = os.getenv('CHAT_ID')\n",
    "TOKEN = os.getenv('TOKEN')\n",
    "\n",
    "url = f\"https://api.telegram.org/bot{TOKEN}/getUpdates\"\n",
    "\n",
    "resp = requests.get(url).json()\n",
    "\n",
    "print(resp)"
   ]
  },
  {
   "cell_type": "code",
   "execution_count": 13,
   "id": "b1bbbf82",
   "metadata": {},
   "outputs": [
    {
     "name": "stdout",
     "output_type": "stream",
     "text": [
      "<Response [200]>\n"
     ]
    }
   ],
   "source": [
    "def post_msg():\n",
    "    url_post= f\"https://api.telegram.org/bot{TOKEN}/sendMessage\"\n",
    "    payload = {\"chat_id\": CHAT_ID, \"text\": \"Enviando a primeira mensagem!\"}\n",
    "\n",
    "    res = requests.post(url_post, json=payload)\n",
    "\n",
    "    print(res)\n",
    "\n",
    "post_msg()"
   ]
  }
 ],
 "metadata": {
  "kernelspec": {
   "display_name": "Python 3",
   "language": "python",
   "name": "python3"
  },
  "language_info": {
   "codemirror_mode": {
    "name": "ipython",
    "version": 3
   },
   "file_extension": ".py",
   "mimetype": "text/x-python",
   "name": "python",
   "nbconvert_exporter": "python",
   "pygments_lexer": "ipython3",
   "version": "3.13.2"
  }
 },
 "nbformat": 4,
 "nbformat_minor": 5
}
