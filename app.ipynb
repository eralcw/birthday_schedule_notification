{
 "cells": [
  {
   "cell_type": "code",
   "execution_count": 1,
   "id": "2f03737f",
   "metadata": {},
   "outputs": [],
   "source": [
    "from datetime import datetime\n",
    "import os\n",
    "import mysql.connector\n",
    "import mysql.connector.errorcode as Error\n",
    "from dotenv import load_dotenv\n",
    "import requests\n",
    "import streamlit as st"
   ]
  },
  {
   "cell_type": "code",
   "execution_count": 2,
   "id": "b6c3bdce",
   "metadata": {},
   "outputs": [
    {
     "data": {
      "text/plain": [
       "True"
      ]
     },
     "execution_count": 2,
     "metadata": {},
     "output_type": "execute_result"
    }
   ],
   "source": [
    "load_dotenv('.env')"
   ]
  },
  {
   "cell_type": "code",
   "execution_count": 3,
   "id": "7a466e1b",
   "metadata": {},
   "outputs": [],
   "source": [
    "def get_connection():\n",
    "    conn = None\n",
    "    try:\n",
    "        db_config = {\n",
    "        'user': os.getenv('DB_USERNAME'),\n",
    "        'password': os.getenv('DB_PASSWORD'),\n",
    "        'host': 'localhost',\n",
    "        'database': 'birthdates'\n",
    "            }\n",
    "        return mysql.connector.connect(**db_config)\n",
    "         \n",
    "    except Error as err:\n",
    "        print(f\"Error: '{err}'\")\n",
    "    \n",
    "        return conn\n"
   ]
  },
  {
   "cell_type": "code",
   "execution_count": 4,
   "id": "ddbd7169",
   "metadata": {},
   "outputs": [
    {
     "data": {
      "text/plain": [
       "<mysql.connector.connection_cext.CMySQLConnection at 0x2e7231a8ad0>"
      ]
     },
     "execution_count": 4,
     "metadata": {},
     "output_type": "execute_result"
    }
   ],
   "source": [
    "get_connection()"
   ]
  },
  {
   "cell_type": "code",
   "execution_count": null,
   "id": "7b64fd2c",
   "metadata": {},
   "outputs": [],
   "source": [
    "def get_bot():\n",
    "    TOKEN = os.getenv('TOKEN')\n",
    "    url = f\"https://api.telegram.org/bot{TOKEN}/getUpdates\"\n",
    "    resp = requests.get(url).json() \n",
    "    \n",
    "    if resp == {'ok': True, 'result': []}:\n",
    "        return {'message': 'Nenhum bot encontrado'}\n",
    "    return resp['ok']\n",
    "    "
   ]
  },
  {
   "cell_type": "code",
   "execution_count": 8,
   "id": "b1bbbf82",
   "metadata": {},
   "outputs": [],
   "source": [
    "def post_msg(name):\n",
    "    TOKEN = os.getenv('TOKEN')\n",
    "    CHAT_ID = os.getenv('CHAT_ID')\n",
    "    url_post= f\"https://api.telegram.org/bot{TOKEN}/sendMessage\"\n",
    "    payload = {\"chat_id\": CHAT_ID, \"text\": f\"Hoje é aniversário de {name}\"}\n",
    "\n",
    "    res = requests.post(url_post, json=payload)\n",
    "\n",
    "    print(res)\n"
   ]
  },
  {
   "cell_type": "code",
   "execution_count": 6,
   "id": "1053b800",
   "metadata": {},
   "outputs": [],
   "source": [
    "def get_today():\n",
    "  conn = get_connection()\n",
    "  today = datetime.now()\n",
    "  cursor = conn.cursor()\n",
    "  cursor.execute(\"SELECT name, date_birth FROM birth\")\n",
    "  resultado = cursor.fetchall()\n",
    "  data = []\n",
    "  for name, date_birth in resultado:\n",
    "    if date_birth.month == today.month and date_birth.day == today.day:\n",
    "      data.append({\n",
    "        \"name\": name\n",
    "      })\n",
    "  return data\n"
   ]
  },
  {
   "cell_type": "code",
   "execution_count": 7,
   "id": "ec93a4e8",
   "metadata": {},
   "outputs": [],
   "source": [
    "def birth_on(dt):\n",
    "    conn = get_connection()\n",
    "    cursor = conn.cursor()\n",
    "    cursor.execute(\"SELECT name, date_birth FROM birth WHERE date_birth = %s\", (dt,))\n",
    "    resultado = cursor.fetchall()\n",
    "    return resultado\n"
   ]
  },
  {
   "cell_type": "code",
   "execution_count": 9,
   "id": "85c28a9d",
   "metadata": {},
   "outputs": [],
   "source": [
    "def execute_today():\n",
    "    today = get_today()\n",
    "    if len(today) == 0:\n",
    "        print(\"Estou aqui\")\n",
    "        return None\n",
    "    print(today)\n",
    "    for i in today:\n",
    "        post_msg(i[\"name\"])\n"
   ]
  },
  {
   "cell_type": "code",
   "execution_count": 13,
   "id": "72c9d7d2",
   "metadata": {},
   "outputs": [],
   "source": [
    "def create_sql(name, dt):\n",
    "    conn = get_connection()\n",
    "    cursor = conn.cursor()\n",
    "    cursor.execute(\"INSERT INTO birth (name, date_birth) VALUES (%s, %s)\", (name, dt))\n",
    "    conn.commit()\n",
    "\n",
    "\n",
    "\n",
    "create_sql('example 3', '2008-08-22')"
   ]
  }
 ],
 "metadata": {
  "kernelspec": {
   "display_name": "Python 3",
   "language": "python",
   "name": "python3"
  },
  "language_info": {
   "codemirror_mode": {
    "name": "ipython",
    "version": 3
   },
   "file_extension": ".py",
   "mimetype": "text/x-python",
   "name": "python",
   "nbconvert_exporter": "python",
   "pygments_lexer": "ipython3",
   "version": "3.13.2"
  }
 },
 "nbformat": 4,
 "nbformat_minor": 5
}
