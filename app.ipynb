{
 "cells": [
  {
   "cell_type": "code",
   "execution_count": null,
   "id": "2f03737f",
   "metadata": {},
   "outputs": [],
   "source": [
    "from datetime import datetime\n",
    "import os\n",
    "import mysql.connector\n",
    "from dotenv import load_dotenv\n",
    "import requests\n"
   ]
  },
  {
   "cell_type": "code",
   "execution_count": null,
   "id": "b6c3bdce",
   "metadata": {},
   "outputs": [],
   "source": [
    "load_dotenv('.env')"
   ]
  },
  {
   "cell_type": "code",
   "execution_count": null,
   "id": "7a466e1b",
   "metadata": {},
   "outputs": [],
   "source": [
    "db_config = {\n",
    "    'user': os.getenv('DB_USERNAME'),\n",
    "    'password': os.getenv('DB_PASSWORD'),\n",
    "    'host': 'localhost',\n",
    "    'database': 'birthdates'\n",
    "}\n",
    "\n",
    "conn = mysql.connector.connect(**db_config)\n",
    "\n"
   ]
  },
  {
   "cell_type": "code",
   "execution_count": null,
   "id": "7b64fd2c",
   "metadata": {},
   "outputs": [],
   "source": [
    "CHAT_ID = os.getenv('CHAT_ID')\n",
    "TOKEN = os.getenv('TOKEN')\n",
    "\n",
    "url = f\"https://api.telegram.org/bot{TOKEN}/getUpdates\"\n",
    "\n",
    "resp = requests.get(url).json()\n",
    "\n",
    "print(resp)"
   ]
  },
  {
   "cell_type": "code",
   "execution_count": null,
   "id": "b1bbbf82",
   "metadata": {},
   "outputs": [],
   "source": [
    "def post_msg():\n",
    "    url_post= f\"https://api.telegram.org/bot{TOKEN}/sendMessage\"\n",
    "    payload = {\"chat_id\": CHAT_ID, \"text\": \"Enviando a primeira mensagem!\"}\n",
    "\n",
    "    res = requests.post(url_post, json=payload)\n",
    "\n",
    "    print(res)\n",
    "\n",
    "post_msg()"
   ]
  }
 ],
 "metadata": {
  "kernelspec": {
   "display_name": "Python 3",
   "language": "python",
   "name": "python3"
  },
  "language_info": {
   "codemirror_mode": {
    "name": "ipython",
    "version": 3
   },
   "file_extension": ".py",
   "mimetype": "text/x-python",
   "name": "python",
   "nbconvert_exporter": "python",
   "pygments_lexer": "ipython3",
   "version": "3.13.2"
  }
 },
 "nbformat": 4,
 "nbformat_minor": 5
}
