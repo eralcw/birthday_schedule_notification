{
 "cells": [
  {
   "cell_type": "code",
   "execution_count": 2,
   "id": "2f03737f",
   "metadata": {},
   "outputs": [],
   "source": [
    "from datetime import datetime\n",
    "import os\n",
    "import mysql.connector\n",
    "import mysql.connector.errorcode as Error\n",
    "from dotenv import load_dotenv\n",
    "import requests\n"
   ]
  },
  {
   "cell_type": "code",
   "execution_count": 3,
   "id": "b6c3bdce",
   "metadata": {},
   "outputs": [
    {
     "data": {
      "text/plain": [
       "True"
      ]
     },
     "execution_count": 3,
     "metadata": {},
     "output_type": "execute_result"
    }
   ],
   "source": [
    "load_dotenv('.env')"
   ]
  },
  {
   "cell_type": "code",
   "execution_count": 4,
   "id": "7a466e1b",
   "metadata": {},
   "outputs": [],
   "source": [
    "def get_connection():\n",
    "    conn = None\n",
    "    try:\n",
    "        db_config = {\n",
    "        'user': os.getenv('DB_USERNAME'),\n",
    "        'password': os.getenv('DB_PASSWORD'),\n",
    "        'host': 'localhost',\n",
    "        'database': 'birthdates'\n",
    "            }\n",
    "        return mysql.connector.connect(**db_config)\n",
    "         \n",
    "    except Error as err:\n",
    "        print(f\"Error: '{err}'\")\n",
    "    \n",
    "        return conn\n"
   ]
  },
  {
   "cell_type": "code",
   "execution_count": 5,
   "id": "ddbd7169",
   "metadata": {},
   "outputs": [
    {
     "data": {
      "text/plain": [
       "<mysql.connector.connection_cext.CMySQLConnection at 0x12717fc0050>"
      ]
     },
     "execution_count": 5,
     "metadata": {},
     "output_type": "execute_result"
    }
   ],
   "source": [
    "get_connection()"
   ]
  },
  {
   "cell_type": "code",
   "execution_count": null,
   "id": "7b64fd2c",
   "metadata": {},
   "outputs": [],
   "source": [
    "def get_bot():\n",
    "    TOKEN = os.getenv('TOKEN')\n",
    "    url = f\"https://api.telegram.org/bot{TOKEN}/getUpdates\"\n",
    "    resp = requests.get(url).json() \n",
    "    \n",
    "    if resp == {'ok': True, 'result': []}:\n",
    "        return {'message': 'Nenhum bot encontrado'}\n",
    "    return resp['ok']\n",
    "    "
   ]
  },
  {
   "cell_type": "code",
   "execution_count": null,
   "id": "b1bbbf82",
   "metadata": {},
   "outputs": [],
   "source": [
    "def post_msg():\n",
    "    TOKEN = os.getenv('TOKEN')\n",
    "    CHAT_ID = os.getenv('CHAT_ID')\n",
    "    url_post= f\"https://api.telegram.org/bot{TOKEN}/sendMessage\"\n",
    "    payload = {\"chat_id\": CHAT_ID, \"text\": \"Enviando a primeira mensagem!\"}\n",
    "\n",
    "    res = requests.post(url_post, json=payload)\n",
    "\n",
    "    print(res)\n"
   ]
  },
  {
   "cell_type": "code",
   "execution_count": null,
   "id": "1053b800",
   "metadata": {},
   "outputs": [
    {
     "data": {
      "text/plain": [
       "[{'name': 'exemplo'}]"
      ]
     },
     "execution_count": 51,
     "metadata": {},
     "output_type": "execute_result"
    }
   ],
   "source": [
    "def get_today():\n",
    "  conn = get_connection()\n",
    "  today = datetime.now()\n",
    "  cursor = conn.cursor()\n",
    "  cursor.execute(\"SELECT name, date_birth FROM birth WHERE name = %s AND date_birth = %s\"(today,))\n",
    "  resultado = cursor.fetchall()\n",
    "  data = []\n",
    "  for name, date_birth in resultado:\n",
    "    if date_birth.month == today.month and date_birth.day == today.day:\n",
    "      data.append({\n",
    "        \"name\": name\n",
    "      })\n",
    "  return data\n"
   ]
  },
  {
   "cell_type": "code",
   "execution_count": null,
   "id": "ec93a4e8",
   "metadata": {},
   "outputs": [
    {
     "data": {
      "text/plain": [
       "[('exemplo', datetime.date(2025, 8, 19)),\n",
       " ('exemplo', datetime.date(2025, 8, 19))]"
      ]
     },
     "execution_count": 19,
     "metadata": {},
     "output_type": "execute_result"
    }
   ],
   "source": [
    "def birth_on(dt):\n",
    "    conn = get_connection()\n",
    "    cursor = conn.cursor()\n",
    "    cursor.execute(\"SELECT name, date_birth FROM birth WHERE date_birth = %s\", (dt,))\n",
    "    resultado = cursor.fetchall()\n",
    "    return resultado\n"
   ]
  },
  {
   "cell_type": "code",
   "execution_count": 20,
   "id": "85c28a9d",
   "metadata": {},
   "outputs": [
    {
     "ename": "NameError",
     "evalue": "name 'get_today' is not defined",
     "output_type": "error",
     "traceback": [
      "\u001b[31m---------------------------------------------------------------------------\u001b[39m",
      "\u001b[31mNameError\u001b[39m                                 Traceback (most recent call last)",
      "\u001b[36mCell\u001b[39m\u001b[36m \u001b[39m\u001b[32mIn[20]\u001b[39m\u001b[32m, line 7\u001b[39m\n\u001b[32m      3\u001b[39m     \u001b[38;5;28;01mif\u001b[39;00m \u001b[38;5;28mlen\u001b[39m(today) == \u001b[32m0\u001b[39m:\n\u001b[32m      4\u001b[39m         \u001b[38;5;28;01mreturn\u001b[39;00m \u001b[38;5;28;01mNone\u001b[39;00m\n\u001b[32m----> \u001b[39m\u001b[32m7\u001b[39m \u001b[43mexecute_today\u001b[49m\u001b[43m(\u001b[49m\u001b[43m)\u001b[49m\n",
      "\u001b[36mCell\u001b[39m\u001b[36m \u001b[39m\u001b[32mIn[20]\u001b[39m\u001b[32m, line 2\u001b[39m, in \u001b[36mexecute_today\u001b[39m\u001b[34m()\u001b[39m\n\u001b[32m      1\u001b[39m \u001b[38;5;28;01mdef\u001b[39;00m\u001b[38;5;250m \u001b[39m\u001b[34mexecute_today\u001b[39m():\n\u001b[32m----> \u001b[39m\u001b[32m2\u001b[39m     today = \u001b[43mget_today\u001b[49m()\n\u001b[32m      3\u001b[39m     \u001b[38;5;28;01mif\u001b[39;00m \u001b[38;5;28mlen\u001b[39m(today) == \u001b[32m0\u001b[39m:\n\u001b[32m      4\u001b[39m         \u001b[38;5;28;01mreturn\u001b[39;00m \u001b[38;5;28;01mNone\u001b[39;00m\n",
      "\u001b[31mNameError\u001b[39m: name 'get_today' is not defined"
     ]
    }
   ],
   "source": [
    "def execute_today():\n",
    "    today = get_today()\n",
    "    if len(today) == 0:\n",
    "        return None\n",
    "    \n",
    "\n",
    "execute_today()"
   ]
  }
 ],
 "metadata": {
  "kernelspec": {
   "display_name": "Python 3",
   "language": "python",
   "name": "python3"
  },
  "language_info": {
   "codemirror_mode": {
    "name": "ipython",
    "version": 3
   },
   "file_extension": ".py",
   "mimetype": "text/x-python",
   "name": "python",
   "nbconvert_exporter": "python",
   "pygments_lexer": "ipython3",
   "version": "3.13.2"
  }
 },
 "nbformat": 4,
 "nbformat_minor": 5
}
