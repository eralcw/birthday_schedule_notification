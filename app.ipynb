{
 "cells": [
  {
   "cell_type": "code",
   "execution_count": 11,
   "id": "2f03737f",
   "metadata": {},
   "outputs": [],
   "source": [
    "from datetime import datetime\n",
    "import os\n",
    "import mysql.connector\n",
    "import mysql.connector.errorcode as Error\n",
    "from dotenv import load_dotenv\n",
    "import requests\n"
   ]
  },
  {
   "cell_type": "code",
   "execution_count": 2,
   "id": "b6c3bdce",
   "metadata": {},
   "outputs": [
    {
     "data": {
      "text/plain": [
       "True"
      ]
     },
     "execution_count": 2,
     "metadata": {},
     "output_type": "execute_result"
    }
   ],
   "source": [
    "load_dotenv('.env')"
   ]
  },
  {
   "cell_type": "code",
   "execution_count": 49,
   "id": "7a466e1b",
   "metadata": {},
   "outputs": [],
   "source": [
    "def get_connection():\n",
    "    conn = None\n",
    "    try:\n",
    "        db_config = {\n",
    "        'user': os.getenv('DB_USERNAME'),\n",
    "        'password': os.getenv('DB_PASSWORD'),\n",
    "        'host': 'localhost',\n",
    "        'database': 'birthdates'\n",
    "            }\n",
    "        return mysql.connector.connect(**db_config)\n",
    "         \n",
    "    except Error as err:\n",
    "        print(f\"Error: '{err}'\")\n",
    "    \n",
    "        return conn\n"
   ]
  },
  {
   "cell_type": "code",
   "execution_count": 50,
   "id": "ddbd7169",
   "metadata": {},
   "outputs": [
    {
     "data": {
      "text/plain": [
       "<mysql.connector.connection_cext.CMySQLConnection at 0x2359fcf07d0>"
      ]
     },
     "execution_count": 50,
     "metadata": {},
     "output_type": "execute_result"
    }
   ],
   "source": [
    "get_connection()"
   ]
  },
  {
   "cell_type": "code",
   "execution_count": null,
   "id": "7b64fd2c",
   "metadata": {},
   "outputs": [],
   "source": [
    "def get_bot():\n",
    "    TOKEN = os.getenv('TOKEN')\n",
    "    url = f\"https://api.telegram.org/bot{TOKEN}/getUpdates\"\n",
    "    resp = requests.get(url).json() \n",
    "    \n",
    "    if resp == {'ok': True, 'result': []}:\n",
    "        return {'message': 'Nenhum bot encontrado'}\n",
    "    return resp['ok']\n",
    "    "
   ]
  },
  {
   "cell_type": "code",
   "execution_count": null,
   "id": "b1bbbf82",
   "metadata": {},
   "outputs": [],
   "source": [
    "def post_msg():\n",
    "    TOKEN = os.getenv('TOKEN')\n",
    "    CHAT_ID = os.getenv('CHAT_ID')\n",
    "    url_post= f\"https://api.telegram.org/bot{TOKEN}/sendMessage\"\n",
    "    payload = {\"chat_id\": CHAT_ID, \"text\": \"Enviando a primeira mensagem!\"}\n",
    "\n",
    "    res = requests.post(url_post, json=payload)\n",
    "\n",
    "    print(res)\n"
   ]
  },
  {
   "cell_type": "code",
   "execution_count": 51,
   "id": "1053b800",
   "metadata": {},
   "outputs": [
    {
     "data": {
      "text/plain": [
       "[{'name': 'exemplo'}]"
      ]
     },
     "execution_count": 51,
     "metadata": {},
     "output_type": "execute_result"
    }
   ],
   "source": [
    "def birth_today():\n",
    "  conn = get_connection()\n",
    "  today = datetime.now()\n",
    "  cursor = conn.cursor()\n",
    "  cursor.execute(\"SELECT name, date_birth FROM birth\")\n",
    "  resultado = cursor.fetchall()\n",
    "  data = []\n",
    "  for name, date_birth in resultado:\n",
    "    if date_birth.month == today.month and date_birth.day == today.day:\n",
    "      data.append({\n",
    "        \"name\": name\n",
    "      })\n",
    "  return data\n",
    "\n",
    "birth_today()"
   ]
  },
  {
   "cell_type": "code",
   "execution_count": null,
   "id": "ec93a4e8",
   "metadata": {},
   "outputs": [
    {
     "data": {
      "text/plain": [
       "datetime.date(2025, 8, 19)"
      ]
     },
     "execution_count": 56,
     "metadata": {},
     "output_type": "execute_result"
    }
   ],
   "source": [
    "def birth_on(dt):\n",
    "    dt = None\n",
    "    if dt is None:\n",
    "        dt = datetime.now().date()\n",
    "        return dt\n",
    "\n",
    "birth_on(\"\")\n"
   ]
  }
 ],
 "metadata": {
  "kernelspec": {
   "display_name": "Python 3",
   "language": "python",
   "name": "python3"
  },
  "language_info": {
   "codemirror_mode": {
    "name": "ipython",
    "version": 3
   },
   "file_extension": ".py",
   "mimetype": "text/x-python",
   "name": "python",
   "nbconvert_exporter": "python",
   "pygments_lexer": "ipython3",
   "version": "3.13.2"
  }
 },
 "nbformat": 4,
 "nbformat_minor": 5
}
